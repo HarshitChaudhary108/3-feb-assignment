{
 "cells": [
  {
   "cell_type": "code",
   "execution_count": 1,
   "id": "450bad21-6058-41c6-8d6a-0afe04ca4a38",
   "metadata": {},
   "outputs": [],
   "source": [
    "#Answer 1"
   ]
  },
  {
   "cell_type": "code",
   "execution_count": 2,
   "id": "9f17d21e-f05c-4f8f-858c-0c26a3bff94e",
   "metadata": {},
   "outputs": [
    {
     "name": "stdout",
     "output_type": "stream",
     "text": [
      "def keyword is used to create function\n"
     ]
    }
   ],
   "source": [
    "print(\"def keyword is used to create function\")"
   ]
  },
  {
   "cell_type": "code",
   "execution_count": 8,
   "id": "0e6b19bc-deb6-4c39-bdba-9d5f10445a91",
   "metadata": {},
   "outputs": [],
   "source": [
    "l = [1,2,3,4,5,6,7,8,9,10,11,12,13,14,15,16,17,18,19,20,21,22,23,24,25]"
   ]
  },
  {
   "cell_type": "code",
   "execution_count": 11,
   "id": "9cbe2231-20bc-4ea0-a080-aad6970cbf7d",
   "metadata": {},
   "outputs": [
    {
     "data": {
      "text/plain": [
       "25"
      ]
     },
     "execution_count": 11,
     "metadata": {},
     "output_type": "execute_result"
    }
   ],
   "source": [
    "len(range(1,26))"
   ]
  },
  {
   "cell_type": "code",
   "execution_count": null,
   "id": "ba22b929-6ed4-4af0-8018-8889e4029b9d",
   "metadata": {},
   "outputs": [],
   "source": []
  },
  {
   "cell_type": "code",
   "execution_count": 38,
   "id": "969cd3a1-f801-41db-aae1-0fc771fc3c57",
   "metadata": {},
   "outputs": [],
   "source": [
    "def odd_num():\n",
    "    l1=[]\n",
    "    for i in range(25):\n",
    "        if i % 2 == 1:\n",
    "            l1.append(i)\n",
    "    return l1"
   ]
  },
  {
   "cell_type": "code",
   "execution_count": 39,
   "id": "bd96de27-227a-492f-bfd2-66b572282c57",
   "metadata": {},
   "outputs": [
    {
     "data": {
      "text/plain": [
       "[1, 3, 5, 7, 9, 11, 13, 15, 17, 19, 21, 23]"
      ]
     },
     "execution_count": 39,
     "metadata": {},
     "output_type": "execute_result"
    }
   ],
   "source": [
    "odd_num()"
   ]
  },
  {
   "cell_type": "code",
   "execution_count": null,
   "id": "b8213003-1d1a-4814-bb53-555ed53ec7bd",
   "metadata": {},
   "outputs": [],
   "source": []
  },
  {
   "cell_type": "code",
   "execution_count": null,
   "id": "3b90ebe9-ee7c-4094-9dd6-53ab20ece252",
   "metadata": {},
   "outputs": [],
   "source": []
  },
  {
   "cell_type": "code",
   "execution_count": 20,
   "id": "ce2a911e-ef92-4fab-afbe-5767029755f6",
   "metadata": {},
   "outputs": [],
   "source": [
    "#ANSWER2"
   ]
  },
  {
   "cell_type": "code",
   "execution_count": 44,
   "id": "cd706fd7-457b-4ce5-ba42-210d2a3ac6e7",
   "metadata": {},
   "outputs": [],
   "source": [
    "# *args is used, or by usinf this we can add \"n\" number of inputs into the function "
   ]
  },
  {
   "cell_type": "code",
   "execution_count": 45,
   "id": "43c64e00-e8f9-472a-9ddf-73ce0f466c28",
   "metadata": {},
   "outputs": [],
   "source": [
    "# **kwargs is used to get the outout of the function in the form of key-value pair or in dictionary form"
   ]
  },
  {
   "cell_type": "code",
   "execution_count": 46,
   "id": "8237f525-6e1d-49a2-be69-dc2e4fd5cc5c",
   "metadata": {},
   "outputs": [],
   "source": [
    "#EXAMPLE:\n",
    "#1. *args\n",
    "\n",
    "def pps(*args):\n",
    "    return args"
   ]
  },
  {
   "cell_type": "code",
   "execution_count": 47,
   "id": "0db02eaa-efcc-4089-b350-2f955719f79b",
   "metadata": {},
   "outputs": [
    {
     "data": {
      "text/plain": [
       "('harshit', 'harekrishna', [108, 108.1, 108, 2], 67.3, True)"
      ]
     },
     "execution_count": 47,
     "metadata": {},
     "output_type": "execute_result"
    }
   ],
   "source": [
    "pps(\"harshit\", \"harekrishna\", [108,108.1,108,2], 67.3, True)"
   ]
  },
  {
   "cell_type": "code",
   "execution_count": null,
   "id": "b1427a95-3489-4767-a7c5-7b3936e9160b",
   "metadata": {},
   "outputs": [],
   "source": []
  },
  {
   "cell_type": "code",
   "execution_count": 48,
   "id": "c1a7f5b1-cb79-4450-b651-a0fa0c4266c5",
   "metadata": {},
   "outputs": [],
   "source": [
    "#2. **kwargs\n",
    "def pps_1(**kwargs):\n",
    "    return kwargs"
   ]
  },
  {
   "cell_type": "code",
   "execution_count": 54,
   "id": "fb55713e-29d9-4797-98b9-d11348bfb4f1",
   "metadata": {},
   "outputs": [
    {
     "data": {
      "text/plain": [
       "{'a': 'harshit', 'pw': 'skills', 'b': 'oh nice'}"
      ]
     },
     "execution_count": 54,
     "metadata": {},
     "output_type": "execute_result"
    }
   ],
   "source": [
    "pps_1(a=\"harshit\", pw=\"skills\", b=\"oh nice\")"
   ]
  },
  {
   "cell_type": "code",
   "execution_count": null,
   "id": "6db9436b-9e93-435a-8b7e-857e475d85c9",
   "metadata": {},
   "outputs": [],
   "source": []
  },
  {
   "cell_type": "code",
   "execution_count": 67,
   "id": "1b187a20-72eb-417a-9c93-dbd9ea354a90",
   "metadata": {},
   "outputs": [],
   "source": [
    "#ANSWER3"
   ]
  },
  {
   "cell_type": "code",
   "execution_count": 68,
   "id": "342a7da7-0ff8-49b8-a26c-a4118cbb041c",
   "metadata": {},
   "outputs": [],
   "source": [
    "#iterator are used to iterate over the iterables in python like list, tuple, and etc......... to initialize iterator in python we used iter() and it ussed next() for itration"
   ]
  },
  {
   "cell_type": "code",
   "execution_count": 69,
   "id": "1dc4e51b-016a-417e-a9a9-276024c783a8",
   "metadata": {},
   "outputs": [
    {
     "name": "stdout",
     "output_type": "stream",
     "text": [
      "K\n",
      "r\n",
      "i\n",
      "s\n"
     ]
    }
   ],
   "source": [
    "l1 = \"Kris\"\n",
    "l2 = iter(l1)\n",
    "\n",
    "print(next(l2))\n",
    "print(next(l2))\n",
    "print(next(l2))\n",
    "print(next(l2))"
   ]
  },
  {
   "cell_type": "code",
   "execution_count": 79,
   "id": "d428f863-5c86-4839-b38f-2f4e8916f3c2",
   "metadata": {},
   "outputs": [
    {
     "name": "stdout",
     "output_type": "stream",
     "text": [
      "2\n",
      "4\n",
      "6\n",
      "8\n",
      "10\n"
     ]
    }
   ],
   "source": [
    "l1= [2, 4, 6, 8, 10, 12, 14, 16, 18, 20]\n",
    "l2= iter(l1)\n",
    "\n",
    "print(next(l2))\n",
    "print(next(l2))\n",
    "print(next(l2))\n",
    "print(next(l2))\n",
    "print(next(l2))"
   ]
  },
  {
   "cell_type": "code",
   "execution_count": null,
   "id": "1ed00a57-585e-4df7-bd66-820976cdc0ff",
   "metadata": {},
   "outputs": [],
   "source": []
  },
  {
   "cell_type": "code",
   "execution_count": 13,
   "id": "04faa759-147a-47c2-8d41-31fcbbee8155",
   "metadata": {},
   "outputs": [],
   "source": [
    "#ANSWER 8"
   ]
  },
  {
   "cell_type": "code",
   "execution_count": 14,
   "id": "2b4063db-3eb0-4bc3-be87-c7c93b45146e",
   "metadata": {},
   "outputs": [],
   "source": [
    "# palindrome is a word, phrase or etc which is same in reading from bakcward as well as forward"
   ]
  },
  {
   "cell_type": "code",
   "execution_count": 15,
   "id": "41e52290-c3ed-4b61-aac7-3892befc0cb4",
   "metadata": {},
   "outputs": [],
   "source": [
    "#Example civi, tenet and etc"
   ]
  },
  {
   "cell_type": "code",
   "execution_count": null,
   "id": "693ff62e-8c39-4335-aef3-f3cf24c192e8",
   "metadata": {},
   "outputs": [],
   "source": [
    "Write a python program to check whether a given number is Palindrome or not using a while loop."
   ]
  },
  {
   "cell_type": "code",
   "execution_count": null,
   "id": "b7a5d011-afb7-424c-a188-97b6ea4fd369",
   "metadata": {},
   "outputs": [],
   "source": [
    "value = int(input(\"enter the number\"))\n",
    "org = value\n",
    "rev = []\n",
    "counter = 0\n",
    "while counter <= len(value):\n",
    "    rev.append(value(-1))\n",
    "    counter = counter + 1\n",
    "return rev"
   ]
  },
  {
   "cell_type": "code",
   "execution_count": null,
   "id": "f43f1fd4-7f41-48dd-bf43-a86cdd00a1a1",
   "metadata": {},
   "outputs": [],
   "source": []
  },
  {
   "cell_type": "code",
   "execution_count": null,
   "id": "216daea8-9282-4b0b-a89e-9a52d8ddf734",
   "metadata": {},
   "outputs": [],
   "source": [
    "# this is for string"
   ]
  },
  {
   "cell_type": "code",
   "execution_count": null,
   "id": "0ee727cf-7fc1-4b15-a833-0f9e7b78dd87",
   "metadata": {},
   "outputs": [],
   "source": [
    "value = input(\"enter the word\")\n",
    "if value = value[::-1]:\n",
    "    print(\"it is a palindrome\")\n",
    "else :\n",
    "    print(\"not a palindrome\")"
   ]
  },
  {
   "cell_type": "code",
   "execution_count": null,
   "id": "dd4328c5-4463-47a9-a194-794933e3f1cd",
   "metadata": {},
   "outputs": [],
   "source": [
    "#ANSWER 9"
   ]
  },
  {
   "cell_type": "code",
   "execution_count": null,
   "id": "44b2cfd2-6803-4aa8-8d63-c85d32e278aa",
   "metadata": {},
   "outputs": [],
   "source": [
    "#Write a code to print odd numbers from 1 to 100 using list comprehension."
   ]
  },
  {
   "cell_type": "code",
   "execution_count": null,
   "id": "51f4c310-df91-45fd-9a6c-f10734a335f2",
   "metadata": {},
   "outputs": [],
   "source": [
    "[i for i in range(0, 100) if i%2 == 1]"
   ]
  },
  {
   "cell_type": "code",
   "execution_count": null,
   "id": "698c44df-06e6-4ff9-863a-cc95d8b90d04",
   "metadata": {},
   "outputs": [],
   "source": []
  },
  {
   "cell_type": "code",
   "execution_count": 1,
   "id": "85d2425c-a963-4724-b2f4-5552bf50edbb",
   "metadata": {},
   "outputs": [],
   "source": [
    "#ANSWER 4"
   ]
  },
  {
   "cell_type": "code",
   "execution_count": 3,
   "id": "8c9e77fe-0a55-4394-971d-b4f0c504c12f",
   "metadata": {},
   "outputs": [],
   "source": [
    "#What is a generator function in python? Why yield keyword is used? Give an example of a generator \n",
    "#function."
   ]
  },
  {
   "cell_type": "code",
   "execution_count": 4,
   "id": "7db2db18-882e-4a84-81b6-03ac7c06612d",
   "metadata": {},
   "outputs": [],
   "source": [
    "#generator function is used to generate values/numbers, for initialization it uses \"yield\" and \"next\" "
   ]
  },
  {
   "cell_type": "code",
   "execution_count": 21,
   "id": "b27d539e-36ff-4bd5-adb5-7c917922a62d",
   "metadata": {},
   "outputs": [],
   "source": [
    "def exmpl(a, b):\n",
    "    yield a\n",
    "    yield b "
   ]
  },
  {
   "cell_type": "code",
   "execution_count": 22,
   "id": "0f88751a-431f-48a7-992f-ee67b7e3d039",
   "metadata": {},
   "outputs": [],
   "source": [
    "result = exmpl(10, 20)"
   ]
  },
  {
   "cell_type": "code",
   "execution_count": 23,
   "id": "5270831b-5146-4f90-83a9-75524fe1c392",
   "metadata": {},
   "outputs": [
    {
     "name": "stdout",
     "output_type": "stream",
     "text": [
      "<generator object exmpl at 0x7fdb9c797b50>\n"
     ]
    }
   ],
   "source": [
    "print(result)"
   ]
  },
  {
   "cell_type": "code",
   "execution_count": 24,
   "id": "e073240e-3d2f-4f64-bd20-34f0cbc24b55",
   "metadata": {},
   "outputs": [
    {
     "data": {
      "text/plain": [
       "generator"
      ]
     },
     "execution_count": 24,
     "metadata": {},
     "output_type": "execute_result"
    }
   ],
   "source": [
    "type(result)"
   ]
  },
  {
   "cell_type": "code",
   "execution_count": 25,
   "id": "f04751cd-daf1-47d2-8e73-a1cdeb727a87",
   "metadata": {},
   "outputs": [
    {
     "name": "stdout",
     "output_type": "stream",
     "text": [
      "10\n",
      "20\n"
     ]
    }
   ],
   "source": [
    "print(next(result))\n",
    "print(next(result))"
   ]
  },
  {
   "cell_type": "code",
   "execution_count": null,
   "id": "cb147522-d288-434a-a340-c8c38c7e9b37",
   "metadata": {},
   "outputs": [],
   "source": []
  },
  {
   "cell_type": "code",
   "execution_count": 26,
   "id": "330cb8a9-7c68-41b9-8952-7831f69a43e0",
   "metadata": {},
   "outputs": [],
   "source": [
    "#Create a generator function for prime numbers less than 1000. Use the next() method to print the\n",
    "#first 20 prime numbers."
   ]
  },
  {
   "cell_type": "code",
   "execution_count": null,
   "id": "0d77a6de-0095-4fce-8630-e96b70625366",
   "metadata": {},
   "outputs": [],
   "source": [
    "def prime_num():\n",
    "    num = int(input(\"enter the value\"))\n",
    "    count = 0\n",
    "    while count <= num:\n",
    "        if count"
   ]
  },
  {
   "cell_type": "code",
   "execution_count": null,
   "id": "c4d1e279-586b-4cac-9b27-8bb1b949fb2b",
   "metadata": {},
   "outputs": [],
   "source": []
  }
 ],
 "metadata": {
  "kernelspec": {
   "display_name": "Python 3 (ipykernel)",
   "language": "python",
   "name": "python3"
  },
  "language_info": {
   "codemirror_mode": {
    "name": "ipython",
    "version": 3
   },
   "file_extension": ".py",
   "mimetype": "text/x-python",
   "name": "python",
   "nbconvert_exporter": "python",
   "pygments_lexer": "ipython3",
   "version": "3.10.8"
  }
 },
 "nbformat": 4,
 "nbformat_minor": 5
}
